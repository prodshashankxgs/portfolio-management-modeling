{
 "cells": [
  {
   "cell_type": "markdown",
   "metadata": {},
   "source": [
    "# Phase One: Data Collection & Cleaning (Pure Polars)\n",
    "## Portfolio Management PPI Modeling Project\n",
    "\n",
    "**Objective**: Collect and clean data for forecasting month-on-month percentage changes in PPI for portfolio management services (PPIDF01 Index).\n",
    "\n",
    "**Key Data Sources**:\n",
    "- Primary Target: PPIDF01 Index (PPI Portfolio Management, NSA) from FRED\n",
    "- Market Returns: S&P 500, NASDAQ, Russell 2000, VIX\n",
    "- Bond Markets: Treasury yields, corporate spreads\n",
    "- Macro Indicators: Dollar index, commodities, employment data\n",
    "\n",
    "**Technical Stack**: Pure Polars for all data manipulation, FRED API, caching system"
   ]
  },
  {
   "cell_type": "code",
   "execution_count": null,
   "metadata": {},
   "outputs": [],
   "source": [
    "import os\n",
    "import polars as pl\n",
    "import numpy as np\n",
    "import matplotlib.pyplot as plt\n",
    "from datetime import datetime\n",
    "from dotenv import load_dotenv\n",
    "from pathlib import Path\n",
    "\n",
    "# Load environment variables\n",
    "load_dotenv()\n",
    "\n",
    "# Import our data collection module\n",
    "from data_collection import DataCollector\n",
    "\n",
    "# Configure Polars\n",
    "pl.Config.set_tbl_rows(10)\n",
    "pl.Config.set_tbl_cols(8)\n",
    "\n",
    "print(f\"✓ Pure Polars setup complete - Version: {pl.__version__}\")"
   ]
  },
  {
   "cell_type": "code",
   "execution_count": null,
   "metadata": {},
   "outputs": [],
   "source": [
    "# Check API key\n",
    "fred_key = os.getenv('FRED_API_KEY')\n",
    "if fred_key:\n",
    "    print(f\"✓ FRED API key configured: {fred_key[:8]}...\")\n",
    "else:\n",
    "    print(\"⚠️ FRED API key not found! Set FRED_API_KEY in .env file\")\n",
    "\n",
    "# Initialize collector\n",
    "collector = DataCollector(cache_dir=\"data_cache\")\n",
    "print(f\"✓ Data collector initialized with cache: {collector.cache_dir}\")"
   ]
  },
  {
   "cell_type": "code",
   "execution_count": null,
   "metadata": {},
   "outputs": [],
   "source": [
    "# Collect all data\n",
    "print(\"Starting data collection...\")\n",
    "all_data = collector.collect_all_data()\n",
    "\n",
    "# Quick summary\n",
    "target = all_data['target']\n",
    "if target is not None:\n",
    "    print(f\"\\n✓ Target data: {target.shape} - {target['date'].min()} to {target['date'].max()}\")\n",
    "    \n",
    "    # Show basic stats\n",
    "    stats = target.select([\n",
    "        pl.col('value').count().alias('count'),\n",
    "        pl.col('value').mean().alias('mean'),\n",
    "        pl.col('value').std().alias('std'),\n",
    "        pl.col('value').min().alias('min'),\n",
    "        pl.col('value').max().alias('max')\n",
    "    ])\n",
    "    print(\"Target statistics:\")\n",
    "    print(stats)"
   ]
  },
  {
   "cell_type": "code",
   "execution_count": null,
   "metadata": {},
   "outputs": [],
   "source": [
    "# Calculate MoM changes and visualize\n",
    "if target is not None:\n",
    "    target_enhanced = target.sort('date').with_columns([\n",
    "        (pl.col('value').pct_change() * 100).alias('mom_pct')\n",
    "    ])\n",
    "    \n",
    "    # Plot using matplotlib\n",
    "    dates = target_enhanced['date'].to_numpy()\n",
    "    values = target_enhanced['value'].to_numpy()\n",
    "    mom_pct = target_enhanced['mom_pct'].to_numpy()\n",
    "    \n",
    "    fig, (ax1, ax2) = plt.subplots(2, 1, figsize=(12, 8))\n",
    "    \n",
    "    ax1.plot(dates, values, 'b-', linewidth=2)\n",
    "    ax1.set_title('PPI Portfolio Management (PPIDF01)', fontweight='bold')\n",
    "    ax1.set_ylabel('Index Value')\n",
    "    ax1.grid(True, alpha=0.3)\n",
    "    \n",
    "    ax2.plot(dates, mom_pct, 'r-', linewidth=1.5, alpha=0.7)\n",
    "    ax2.axhline(y=0, color='black', linestyle='--', alpha=0.5)\n",
    "    ax2.set_title('Month-over-Month % Change')\n",
    "    ax2.set_ylabel('MoM % Change')\n",
    "    ax2.grid(True, alpha=0.3)\n",
    "    \n",
    "    plt.tight_layout()\n",
    "    plt.show()\n",
    "    \n",
    "    # MoM statistics\n",
    "    mom_stats = target_enhanced.select([\n",
    "        pl.col('mom_pct').drop_nulls().mean().alias('mean_mom'),\n",
    "        pl.col('mom_pct').drop_nulls().std().alias('std_mom'),\n",
    "        pl.col('mom_pct').drop_nulls().min().alias('min_mom'),\n",
    "        pl.col('mom_pct').drop_nulls().max().alias('max_mom')\n",
    "    ])\n",
    "    print(\"\\nMoM % Change Statistics:\")\n",
    "    print(mom_stats)"
   ]
  },
  {
   "cell_type": "code",
   "execution_count": null,
   "metadata": {},
   "outputs": [],
   "source": [
    "# Save data in Parquet format for optimal Polars performance\n",
    "parquet_dir = Path(\"data_cache/parquet\")\n",
    "parquet_dir.mkdir(parents=True, exist_ok=True)\n",
    "\n",
    "# Save target\n",
    "if target is not None:\n",
    "    target.write_parquet(parquet_dir / \"target_ppidf01.parquet\")\n",
    "    print(\"✓ Target data saved as Parquet\")\n",
    "\n",
    "# Save other data\n",
    "for category, data_dict in all_data.items():\n",
    "    if category != 'target' and isinstance(data_dict, dict):\n",
    "        for name, df in data_dict.items():\n",
    "            if isinstance(df, pl.DataFrame):\n",
    "                filename = f\"{category}_{name.lower()}.parquet\"\n",
    "                df.write_parquet(parquet_dir / filename)\n",
    "                print(f\"✓ {category} {name} saved\")\n",
    "\n",
    "print(f\"\\n✓ All data saved to {parquet_dir}\")\n",
    "print(\"✓ Phase One Complete - Pure Polars Implementation\")"
   ]
  }
 ],
 "metadata": {
  "kernelspec": {
   "display_name": "Python 3",
   "language": "python",
   "name": "python3"
  },
  "language_info": {
   "codemirror_mode": {
    "name": "ipython",
    "version": 3
   },
   "file_extension": ".py",
   "mimetype": "text/x-python",
   "name": "python",
   "nbconvert_exporter": "python",
   "pygments_lexer": "ipython3",
   "version": "3.9.0"
  }
 },
 "nbformat": 4,
 "nbformat_minor": 4
}
