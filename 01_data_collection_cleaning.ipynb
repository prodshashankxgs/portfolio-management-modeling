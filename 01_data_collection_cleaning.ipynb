{
 "cells": [
  {
   "cell_type": "markdown",
   "metadata": {},
   "source": [
    "# Phase One: Data Collection & Cleaning\n",
    "## Portfolio Management PPI Modeling Project\n",
    "\n",
    "**Objective**: Collect and clean data for forecasting month-on-month percentage changes in PPI for portfolio management services (PPIDF01 Index).\n",
    "\n",
    "**Key Data Sources**:\n",
    "- Primary Target: PPIDF01 Index (PPI Portfolio Management, NSA) from FRED\n",
    "- Market Returns: S&P 500, NASDAQ, Russell 2000, VIX\n",
    "- Bond Markets: Treasury yields, corporate spreads\n",
    "- Macro Indicators: Dollar index, commodities, employment data\n",
    "\n",
    "**Technical Stack**: Polars for data manipulation, FRED API, caching system"
   ]
  },
  {
   "cell_type": "markdown",
   "metadata": {},
   "source": [
    "## Setup and Configuration"
   ]
  },
  {
   "cell_type": "code",
   "execution_count": 1,
   "metadata": {},
   "outputs": [
    {
     "name": "stdout",
     "output_type": "stream",
     "text": [
      "Environment setup complete!\n",
      "Polars version: 1.31.0\n",
      "Current working directory: /Users/shashankshankar/Desktop/Business/Capstone Projects/Portfolio Management Modeling\n"
     ]
    }
   ],
   "source": [
    "import os\n",
    "import sys\n",
    "from pathlib import Path\n",
    "import polars as pl\n",
    "import numpy as np\n",
    "import matplotlib.pyplot as plt\n",
    "import seaborn as sns\n",
    "from datetime import datetime, timedelta\n",
    "from dotenv import load_dotenv\n",
    "\n",
    "# Load environment variables\n",
    "load_dotenv()\n",
    "\n",
    "# Import our data collection module\n",
    "from data_collection import DataCollector\n",
    "\n",
    "# Set up plotting\n",
    "plt.style.use('seaborn-v0_8')\n",
    "sns.set_palette(\"husl\")\n",
    "\n",
    "print(\"Environment setup complete!\")\n",
    "print(f\"Polars version: {pl.__version__}\")\n",
    "print(f\"Current working directory: {os.getcwd()}\")"
   ]
  },
  {
   "cell_type": "markdown",
   "metadata": {},
   "source": [
    "## API Key Configuration\n",
    "\n",
    "**Important**: You need to get a FRED API key from https://fred.stlouisfed.org/docs/api/api_key.html\n",
    "\n",
    "1. Create a `.env` file in the project root\n",
    "2. Add your API key: `FRED_API_KEY=your_key_here`"
   ]
  },
  {
   "cell_type": "code",
   "execution_count": null,
   "metadata": {},
   "outputs": [],
   "source": "# Check if FRED API key is configured\nfred_key = os.getenv('FRED_API_KEY')\nif fred_key:\n    print(\"FRED API key configured\")\n    print(f\"Key starts with: {fred_key[:8]}...\")\nelse:\n    print(\"WARNING: FRED API key not found!\")\n    print(\"Please set FRED_API_KEY in your .env file\")\n    print(\"Get your key from: https://fred.stlouisfed.org/docs/api/api_key.html\")"
  },
  {
   "cell_type": "markdown",
   "metadata": {},
   "source": [
    "## Initialize Data Collector"
   ]
  },
  {
   "cell_type": "code",
   "execution_count": 3,
   "metadata": {},
   "outputs": [
    {
     "name": "stdout",
     "output_type": "stream",
     "text": [
      "Data collector initialized with caching enabled\n",
      "Cache directory: data_cache\n"
     ]
    }
   ],
   "source": [
    "# Initialize the data collector\n",
    "collector = DataCollector(cache_dir=\"data_cache\")\n",
    "\n",
    "print(\"Data collector initialized with caching enabled\")\n",
    "print(f\"Cache directory: {collector.cache_dir}\")"
   ]
  },
  {
   "cell_type": "markdown",
   "metadata": {},
   "source": [
    "## Step 1: Collect Target Variable\n",
    "### PPIDF01 Index - PPI Portfolio Management (NSA)"
   ]
  },
  {
   "cell_type": "code",
   "execution_count": 4,
   "metadata": {},
   "outputs": [
    {
     "name": "stdout",
     "output_type": "stream",
     "text": [
      "Fetching target variable: PPI for Portfolio Management Services\n",
      "Target data shape: (229, 3)\n",
      "Date range: 2003-12-01 to 2022-12-01\n",
      "\n",
      "First few rows:\n",
      "shape: (5, 3)\n",
      "┌────────────┬───────┬───────────────┐\n",
      "│ date       ┆ value ┆ series_id     │\n",
      "│ ---        ┆ ---   ┆ ---           │\n",
      "│ date       ┆ f64   ┆ str           │\n",
      "╞════════════╪═══════╪═══════════════╡\n",
      "│ 2003-12-01 ┆ 100.0 ┆ PCU5239252392 │\n",
      "│ 2004-01-01 ┆ 105.1 ┆ PCU5239252392 │\n",
      "│ 2004-02-01 ┆ 105.2 ┆ PCU5239252392 │\n",
      "│ 2004-03-01 ┆ 104.9 ┆ PCU5239252392 │\n",
      "│ 2004-04-01 ┆ 107.4 ┆ PCU5239252392 │\n",
      "└────────────┴───────┴───────────────┘\n",
      "\n",
      "Basic statistics:\n",
      "Error fetching target data: 'Expr' object has no attribute 'describe'\n"
     ]
    }
   ],
   "source": [
    "# Fetch the primary target variable\n",
    "try:\n",
    "    target_data = collector.get_target_variable()\n",
    "    print(f\"Target data shape: {target_data.shape}\")\n",
    "    print(f\"Date range: {target_data['date'].min()} to {target_data['date'].max()}\")\n",
    "    print(\"\\nFirst few rows:\")\n",
    "    print(target_data.head())\n",
    "    \n",
    "    # Basic statistics\n",
    "    print(\"\\nBasic statistics:\")\n",
    "    print(target_data.select(pl.col('value').describe()))\n",
    "    \n",
    "except Exception as e:\n",
    "    print(f\"Error fetching target data: {e}\")\n",
    "    target_data = None"
   ]
  },
  {
   "cell_type": "markdown",
   "metadata": {},
   "source": [
    "## Step 2: Collect Market Returns Data"
   ]
  },
  {
   "cell_type": "code",
   "execution_count": 5,
   "metadata": {},
   "outputs": [
    {
     "name": "stdout",
     "output_type": "stream",
     "text": [
      "Fetching SP500 data...\n",
      "Fetching NASDAQCOM data...\n",
      "Fetching RUT data...\n",
      "Warning: Could not fetch RUT (RUT): Error fetching FRED data for RUT: 400 Client Error: Bad Request for url: https://api.stlouisfed.org/fred/series/observations?series_id=RUT&api_key=d90bf322739a99eb0960b90c02c0c9e2&file_type=json&observation_start=2000-01-01&observation_end=2025-07-18\n",
      "Fetching VIXCLS data...\n",
      "Market data collected:\n",
      "  SP500: (2514, 3) - Range: 2015-07-20 to 2025-07-17\n",
      "  NASDAQCOM: (6424, 3) - Range: 2000-01-03 to 2025-07-17\n",
      "  VIXCLS: (6449, 3) - Range: 2000-01-03 to 2025-07-17\n",
      "\n",
      "S&P 500 sample data:\n",
      "shape: (5, 3)\n",
      "┌────────────┬─────────┬───────────┐\n",
      "│ date       ┆ value   ┆ series_id │\n",
      "│ ---        ┆ ---     ┆ ---       │\n",
      "│ date       ┆ f64     ┆ str       │\n",
      "╞════════════╪═════════╪═══════════╡\n",
      "│ 2015-07-20 ┆ 2128.28 ┆ SP500     │\n",
      "│ 2015-07-21 ┆ 2119.21 ┆ SP500     │\n",
      "│ 2015-07-22 ┆ 2114.15 ┆ SP500     │\n",
      "│ 2015-07-23 ┆ 2102.15 ┆ SP500     │\n",
      "│ 2015-07-24 ┆ 2079.65 ┆ SP500     │\n",
      "└────────────┴─────────┴───────────┘\n"
     ]
    }
   ],
   "source": [
    "# Fetch market returns data\n",
    "try:\n",
    "    market_data = collector.get_market_returns_data()\n",
    "    \n",
    "    print(\"Market data collected:\")\n",
    "    for name, df in market_data.items():\n",
    "        if isinstance(df, pl.DataFrame):\n",
    "            print(f\"  {name}: {df.shape} - Range: {df['date'].min()} to {df['date'].max()}\")\n",
    "    \n",
    "    # Show sample data\n",
    "    if 'SP500' in market_data:\n",
    "        print(\"\\nS&P 500 sample data:\")\n",
    "        print(market_data['SP500'].head())\n",
    "        \n",
    "except Exception as e:\n",
    "    print(f\"Error fetching market data: {e}\")\n",
    "    market_data = {}"
   ]
  },
  {
   "cell_type": "markdown",
   "metadata": {},
   "source": [
    "## Step 3: Collect Bond Market Data"
   ]
  },
  {
   "cell_type": "code",
   "execution_count": 6,
   "metadata": {},
   "outputs": [
    {
     "name": "stdout",
     "output_type": "stream",
     "text": [
      "Fetching DGS10 data...\n",
      "Fetching DGS2 data...\n",
      "Fetching DGS3MO data...\n",
      "Fetching BAMLC0A0CM data...\n",
      "Bond market data collected:\n",
      "  DGS10: (6387, 3) - Range: 2000-01-03 to 2025-07-16\n",
      "  DGS2: (6387, 3) - Range: 2000-01-03 to 2025-07-16\n",
      "  DGS3MO: (6387, 3) - Range: 2000-01-03 to 2025-07-16\n",
      "  BAMLC0A0CM: (6667, 3) - Range: 2000-01-03 to 2025-07-17\n",
      "\n",
      "10-Year Treasury sample data:\n",
      "shape: (5, 3)\n",
      "┌────────────┬───────┬───────────┐\n",
      "│ date       ┆ value ┆ series_id │\n",
      "│ ---        ┆ ---   ┆ ---       │\n",
      "│ date       ┆ f64   ┆ str       │\n",
      "╞════════════╪═══════╪═══════════╡\n",
      "│ 2000-01-03 ┆ 6.58  ┆ DGS10     │\n",
      "│ 2000-01-04 ┆ 6.49  ┆ DGS10     │\n",
      "│ 2000-01-05 ┆ 6.62  ┆ DGS10     │\n",
      "│ 2000-01-06 ┆ 6.57  ┆ DGS10     │\n",
      "│ 2000-01-07 ┆ 6.52  ┆ DGS10     │\n",
      "└────────────┴───────┴───────────┘\n"
     ]
    }
   ],
   "source": [
    "# Fetch bond market data\n",
    "try:\n",
    "    bond_data = collector.get_bond_market_data()\n",
    "    \n",
    "    print(\"Bond market data collected:\")\n",
    "    for name, df in bond_data.items():\n",
    "        if isinstance(df, pl.DataFrame):\n",
    "            print(f\"  {name}: {df.shape} - Range: {df['date'].min()} to {df['date'].max()}\")\n",
    "    \n",
    "    # Show sample data\n",
    "    if 'DGS10' in bond_data:\n",
    "        print(\"\\n10-Year Treasury sample data:\")\n",
    "        print(bond_data['DGS10'].head())\n",
    "        \n",
    "except Exception as e:\n",
    "    print(f\"Error fetching bond data: {e}\")\n",
    "    bond_data = {}"
   ]
  },
  {
   "cell_type": "markdown",
   "metadata": {},
   "source": [
    "## Step 4: Collect Macro Indicators"
   ]
  },
  {
   "cell_type": "code",
   "execution_count": 7,
   "metadata": {},
   "outputs": [
    {
     "name": "stdout",
     "output_type": "stream",
     "text": [
      "Fetching DTWEXBGS data...\n",
      "Fetching DCOILWTICO data...\n",
      "Fetching GOLDAMGBD228NLBM data...\n",
      "Warning: Could not fetch GOLDAMGBD228NLBM (GOLDAMGBD228NLBM): Error fetching FRED data for GOLDAMGBD228NLBM: 400 Client Error: Bad Request for url: https://api.stlouisfed.org/fred/series/observations?series_id=GOLDAMGBD228NLBM&api_key=d90bf322739a99eb0960b90c02c0c9e2&file_type=json&observation_start=2000-01-01&observation_end=2025-07-18\n",
      "Fetching UNRATE data...\n",
      "Fetching CPIAUCSL data...\n",
      "Macro indicators collected:\n",
      "  DTWEXBGS: (4895, 3) - Range: 2006-01-02 to 2025-07-11\n",
      "  DCOILWTICO: (6402, 3) - Range: 2000-01-04 to 2025-07-14\n",
      "  UNRATE: (306, 3) - Range: 2000-01-01 to 2025-06-01\n",
      "  CPIAUCSL: (306, 3) - Range: 2000-01-01 to 2025-06-01\n",
      "\n",
      "Dollar Index sample data:\n",
      "shape: (5, 3)\n",
      "┌────────────┬──────────┬───────────┐\n",
      "│ date       ┆ value    ┆ series_id │\n",
      "│ ---        ┆ ---      ┆ ---       │\n",
      "│ date       ┆ f64      ┆ str       │\n",
      "╞════════════╪══════════╪═══════════╡\n",
      "│ 2006-01-02 ┆ 101.4155 ┆ DTWEXBGS  │\n",
      "│ 2006-01-03 ┆ 100.7558 ┆ DTWEXBGS  │\n",
      "│ 2006-01-04 ┆ 100.2288 ┆ DTWEXBGS  │\n",
      "│ 2006-01-05 ┆ 100.2992 ┆ DTWEXBGS  │\n",
      "│ 2006-01-06 ┆ 100.0241 ┆ DTWEXBGS  │\n",
      "└────────────┴──────────┴───────────┘\n"
     ]
    }
   ],
   "source": [
    "# Fetch macro indicators\n",
    "try:\n",
    "    macro_data = collector.get_macro_indicators()\n",
    "    \n",
    "    print(\"Macro indicators collected:\")\n",
    "    for name, df in macro_data.items():\n",
    "        if isinstance(df, pl.DataFrame):\n",
    "            print(f\"  {name}: {df.shape} - Range: {df['date'].min()} to {df['date'].max()}\")\n",
    "    \n",
    "    # Show sample data\n",
    "    if 'DTWEXBGS' in macro_data:\n",
    "        print(\"\\nDollar Index sample data:\")\n",
    "        print(macro_data['DTWEXBGS'].head())\n",
    "        \n",
    "except Exception as e:\n",
    "    print(f\"Error fetching macro data: {e}\")\n",
    "    macro_data = {}"
   ]
  },
  {
   "cell_type": "markdown",
   "metadata": {},
   "source": [
    "## Step 5: Data Quality Assessment"
   ]
  },
  {
   "cell_type": "code",
   "execution_count": 8,
   "metadata": {},
   "outputs": [
    {
     "name": "stdout",
     "output_type": "stream",
     "text": [
      "DATA QUALITY ASSESSMENT\n",
      "==================================================\n",
      "\n",
      "Market: SP500:\n",
      "  Rows: 2514\n",
      "  Range: 2015-07-20 to 2025-07-17\n",
      "  Issues: No issues detected\n",
      "\n",
      "Market: NASDAQCOM:\n",
      "  Rows: 6424\n",
      "  Range: 2000-01-03 to 2025-07-17\n",
      "  Issues: No issues detected\n",
      "\n",
      "Market: VIXCLS:\n",
      "  Rows: 6449\n",
      "  Range: 2000-01-03 to 2025-07-17\n",
      "  Issues: No issues detected\n",
      "\n",
      "Bond: DGS10:\n",
      "  Rows: 6387\n",
      "  Range: 2000-01-03 to 2025-07-16\n",
      "  Issues: No issues detected\n",
      "\n",
      "Bond: DGS2:\n",
      "  Rows: 6387\n",
      "  Range: 2000-01-03 to 2025-07-16\n",
      "  Issues: No issues detected\n",
      "\n",
      "Bond: DGS3MO:\n",
      "  Rows: 6387\n",
      "  Range: 2000-01-03 to 2025-07-16\n",
      "  Issues: No issues detected\n",
      "\n",
      "Bond: BAMLC0A0CM:\n",
      "  Rows: 6667\n",
      "  Range: 2000-01-03 to 2025-07-17\n",
      "  Issues: No issues detected\n",
      "\n",
      "Macro: DTWEXBGS:\n",
      "  Rows: 4895\n",
      "  Range: 2006-01-02 to 2025-07-11\n",
      "  Issues: No issues detected\n",
      "\n",
      "Macro: DCOILWTICO:\n",
      "  Rows: 6402\n",
      "  Range: 2000-01-04 to 2025-07-14\n",
      "  Issues: No issues detected\n",
      "\n",
      "Macro: UNRATE:\n",
      "  Rows: 306\n",
      "  Range: 2000-01-01 to 2025-06-01\n",
      "  Issues: No issues detected\n",
      "\n",
      "Macro: CPIAUCSL:\n",
      "  Rows: 306\n",
      "  Range: 2000-01-01 to 2025-06-01\n",
      "  Issues: No issues detected\n"
     ]
    }
   ],
   "source": [
    "def assess_data_quality(df: pl.DataFrame, name: str) -> dict:\n",
    "    \"\"\"Assess data quality for a given DataFrame.\"\"\"\n",
    "    if df is None or df.height == 0:\n",
    "        return {\"name\": name, \"status\": \"empty\", \"issues\": [\"No data available\"]}\n",
    "    \n",
    "    issues = []\n",
    "    \n",
    "    # Check for missing values\n",
    "    null_count = df.null_count().sum_horizontal()[0]\n",
    "    if null_count > 0:\n",
    "        issues.append(f\"Missing values: {null_count}\")\n",
    "    \n",
    "    # Check date range\n",
    "    date_range = df['date'].max() - df['date'].min()\n",
    "    if date_range.days < 365:\n",
    "        issues.append(f\"Short time series: {date_range.days} days\")\n",
    "    \n",
    "    # Check for duplicates\n",
    "    duplicate_count = df.height - df.unique().height\n",
    "    if duplicate_count > 0:\n",
    "        issues.append(f\"Duplicate rows: {duplicate_count}\")\n",
    "    \n",
    "    return {\n",
    "        \"name\": name,\n",
    "        \"rows\": df.height,\n",
    "        \"date_range\": f\"{df['date'].min()} to {df['date'].max()}\",\n",
    "        \"issues\": issues if issues else [\"No issues detected\"]\n",
    "    }\n",
    "\n",
    "# Assess all collected data\n",
    "quality_report = []\n",
    "\n",
    "if target_data is not None:\n",
    "    quality_report.append(assess_data_quality(target_data, \"PPIDF01 (Target)\"))\n",
    "\n",
    "for category, data_dict in [(\"Market\", market_data), (\"Bond\", bond_data), (\"Macro\", macro_data)]:\n",
    "    for name, df in data_dict.items():\n",
    "        if isinstance(df, pl.DataFrame):\n",
    "            quality_report.append(assess_data_quality(df, f\"{category}: {name}\"))\n",
    "\n",
    "# Display quality report\n",
    "print(\"DATA QUALITY ASSESSMENT\")\n",
    "print(\"=\" * 50)\n",
    "for report in quality_report:\n",
    "    print(f\"\\n{report['name']}:\")\n",
    "    print(f\"  Rows: {report.get('rows', 'N/A')}\")\n",
    "    print(f\"  Range: {report.get('date_range', 'N/A')}\")\n",
    "    print(f\"  Issues: {', '.join(report['issues'])}\")"
   ]
  },
  {
   "cell_type": "markdown",
   "metadata": {},
   "source": [
    "## Step 6: Initial Data Visualization"
   ]
  },
  {
   "cell_type": "code",
   "execution_count": 9,
   "metadata": {},
   "outputs": [
    {
     "name": "stdout",
     "output_type": "stream",
     "text": [
      "Target data not available for visualization\n"
     ]
    }
   ],
   "source": [
    "# Plot target variable if available\n",
    "if target_data is not None and target_data.height > 0:\n",
    "    # Convert to pandas for plotting\n",
    "    target_pd = target_data.to_pandas()\n",
    "    target_pd['date'] = pd.to_datetime(target_pd['date'])\n",
    "    \n",
    "    fig, (ax1, ax2) = plt.subplots(2, 1, figsize=(12, 10))\n",
    "    \n",
    "    # Time series plot\n",
    "    ax1.plot(target_pd['date'], target_pd['value'], linewidth=2, color='navy')\n",
    "    ax1.set_title('PPI Portfolio Management (PPIDF01) - NSA', fontsize=14, fontweight='bold')\n",
    "    ax1.set_ylabel('Index Value')\n",
    "    ax1.grid(True, alpha=0.3)\n",
    "    \n",
    "    # Calculate month-over-month percentage change\n",
    "    target_pd['mom_pct'] = target_pd['value'].pct_change() * 100\n",
    "    \n",
    "    # MoM percentage change plot\n",
    "    ax2.plot(target_pd['date'], target_pd['mom_pct'], linewidth=1.5, color='darkred', alpha=0.7)\n",
    "    ax2.axhline(y=0, color='black', linestyle='--', alpha=0.5)\n",
    "    ax2.set_title('Month-over-Month Percentage Change (Target Variable)', fontsize=14, fontweight='bold')\n",
    "    ax2.set_ylabel('MoM % Change')\n",
    "    ax2.set_xlabel('Date')\n",
    "    ax2.grid(True, alpha=0.3)\n",
    "    \n",
    "    plt.tight_layout()\n",
    "    plt.show()\n",
    "    \n",
    "    # Summary statistics for MoM changes\n",
    "    mom_stats = target_pd['mom_pct'].describe()\n",
    "    print(\"\\nMonth-over-Month % Change Statistics:\")\n",
    "    print(mom_stats)\n",
    "    \n",
    "else:\n",
    "    print(\"Target data not available for visualization\")"
   ]
  },
  {
   "cell_type": "markdown",
   "metadata": {},
   "source": [
    "## Step 7: Save Collected Data"
   ]
  },
  {
   "cell_type": "code",
   "execution_count": null,
   "metadata": {},
   "outputs": [],
   "source": "# Compile all data into a single structure\nall_collected_data = {\n    'target': target_data,\n    'market_returns': market_data,\n    'bond_market': bond_data,\n    'macro_indicators': macro_data\n}\n\n# Save to file\ntry:\n    collector.save_collected_data(all_collected_data, \"phase_one_collected_data.json\")\n    print(\"All data saved successfully\")\nexcept Exception as e:\n    print(f\"Error saving data: {e}\")\n\n# Create summary report\nsummary = {\n    'collection_date': datetime.now().isoformat(),\n    'target_variable': 'PPIDF01 - PPI Portfolio Management (NSA)',\n    'data_sources': {\n        'target': 1 if target_data is not None else 0,\n        'market_returns': len(market_data),\n        'bond_market': len(bond_data),\n        'macro_indicators': len(macro_data)\n    },\n    'total_series': 1 + len(market_data) + len(bond_data) + len(macro_data)\n}\n\nprint(\"\\nphase one completion summary\")\nprint(\"=\" * 40)\nprint(f\"collection date: {summary['collection_date']}\")\nprint(f\"target variable: {summary['target_variable']}\")\nprint(f\"total series collected: {summary['total_series']}\")\nprint(\"\\ndata sources:\")\nfor source, count in summary['data_sources'].items():\n    print(f\"  {source.replace('_', ' ').title()}: {count} series\")\n\nprint(\"\\nphase one: data collection strategy - complete\")\nprint(\"next: phase two - exploratory data analysis\")"
  },
  {
   "cell_type": "code",
   "execution_count": null,
   "metadata": {},
   "outputs": [],
   "source": []
  }
 ],
 "metadata": {
  "kernelspec": {
   "display_name": "Python 3 (ipykernel)",
   "language": "python",
   "name": "python3"
  },
  "language_info": {
   "codemirror_mode": {
    "name": "ipython",
    "version": 3
   },
   "file_extension": ".py",
   "mimetype": "text/x-python",
   "name": "python",
   "nbconvert_exporter": "python",
   "pygments_lexer": "ipython3",
   "version": "3.13.5"
  }
 },
 "nbformat": 4,
 "nbformat_minor": 4
}